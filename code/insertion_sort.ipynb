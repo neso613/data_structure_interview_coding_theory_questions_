{
 "cells": [
  {
   "cell_type": "code",
   "execution_count": 3,
   "id": "f55c9e93",
   "metadata": {},
   "outputs": [],
   "source": [
    "def insertion_sort(lis):\n",
    "    for i in range(1,len(lis)): # 1 to n-1\n",
    "        key = lis[i] \n",
    "        j = i-1\n",
    "        while j>=0 and key < lis[j]:\n",
    "            lis[j+1] = lis[j]\n",
    "            j-=1\n",
    "        lis[j+1] = key\n",
    "        \n",
    "    "
   ]
  },
  {
   "cell_type": "code",
   "execution_count": 4,
   "id": "10187196",
   "metadata": {},
   "outputs": [
    {
     "name": "stdout",
     "output_type": "stream",
     "text": [
      "Sorted array is:\n",
      "[5, 6, 11, 12, 13]\n"
     ]
    }
   ],
   "source": [
    "arr = [12, 11, 13, 5, 6]\n",
    "insertionSort(arr)\n",
    "print (\"Sorted array is:\")\n",
    "print(arr)"
   ]
  },
  {
   "cell_type": "code",
   "execution_count": null,
   "id": "0805a332",
   "metadata": {},
   "outputs": [],
   "source": []
  }
 ],
 "metadata": {
  "kernelspec": {
   "display_name": "Python 3 (ipykernel)",
   "language": "python",
   "name": "python3"
  },
  "language_info": {
   "codemirror_mode": {
    "name": "ipython",
    "version": 3
   },
   "file_extension": ".py",
   "mimetype": "text/x-python",
   "name": "python",
   "nbconvert_exporter": "python",
   "pygments_lexer": "ipython3",
   "version": "3.7.11"
  }
 },
 "nbformat": 4,
 "nbformat_minor": 5
}
