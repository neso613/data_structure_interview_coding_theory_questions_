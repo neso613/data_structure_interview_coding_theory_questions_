{
 "cells": [
  {
   "cell_type": "code",
   "execution_count": 1,
   "id": "1a8c7317",
   "metadata": {},
   "outputs": [],
   "source": [
    "el = [21,6,9,33,3]"
   ]
  },
  {
   "cell_type": "code",
   "execution_count": 9,
   "id": "6b6f0929",
   "metadata": {},
   "outputs": [
    {
     "data": {
      "text/plain": [
       "[3, 6, 9, 21, 33]"
      ]
     },
     "execution_count": 9,
     "metadata": {},
     "output_type": "execute_result"
    }
   ],
   "source": [
    "def selection_sort(lis):\n",
    "    n = len(lis)\n",
    "    for i in range(n-1):\n",
    "        minValueIndex = i\n",
    "        for j in range(i+1,n):\n",
    "            if lis[minValueIndex] > lis[j]:\n",
    "                minValueIndex = j\n",
    "        if minValueIndex != i :\n",
    "            temp = lis[i]\n",
    "            lis[i] = lis[minValueIndex]\n",
    "            lis[minValueIndex] = temp\n",
    "        \n",
    "    return lis\n",
    "        \n",
    "        \n",
    "        \n",
    "        \n",
    "selection_sort(el)"
   ]
  },
  {
   "cell_type": "code",
   "execution_count": null,
   "id": "2c3218a7",
   "metadata": {},
   "outputs": [],
   "source": []
  }
 ],
 "metadata": {
  "kernelspec": {
   "display_name": "Python 3 (ipykernel)",
   "language": "python",
   "name": "python3"
  },
  "language_info": {
   "codemirror_mode": {
    "name": "ipython",
    "version": 3
   },
   "file_extension": ".py",
   "mimetype": "text/x-python",
   "name": "python",
   "nbconvert_exporter": "python",
   "pygments_lexer": "ipython3",
   "version": "3.7.11"
  }
 },
 "nbformat": 4,
 "nbformat_minor": 5
}
