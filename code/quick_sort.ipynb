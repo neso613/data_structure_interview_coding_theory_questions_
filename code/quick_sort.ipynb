{
 "cells": [
  {
   "cell_type": "code",
   "execution_count": 5,
   "id": "015a878f",
   "metadata": {},
   "outputs": [],
   "source": [
    "def partition(array,low,high):\n",
    "    pivot = array[high]\n",
    "    i = low - 1\n",
    "    for j in range(low,high):\n",
    "        if array[j] <= pivot:\n",
    "            i = i + 1\n",
    "            (array[i],array[j]) = (array[j],array[i])\n",
    "    (array[i+1],array[high]) = (array[high],array[i+1])\n",
    "    return i+1\n",
    "    "
   ]
  },
  {
   "cell_type": "code",
   "execution_count": 6,
   "id": "f804100b",
   "metadata": {},
   "outputs": [],
   "source": [
    "def quick_sort(array,low,high):\n",
    "    if low < high:\n",
    "        pi = partition(array,low,high)\n",
    "        quick_sort(array,low,pi-1)\n",
    "        quick_sort(array,pi+1,high)"
   ]
  },
  {
   "cell_type": "code",
   "execution_count": 7,
   "id": "02347aef",
   "metadata": {},
   "outputs": [
    {
     "name": "stdout",
     "output_type": "stream",
     "text": [
      "Unsorted Array\n",
      "[8, 7, 2, 1, 0, 9, 6]\n",
      "Sorted Array in Ascending Order:\n",
      "[0, 1, 2, 6, 7, 8, 9]\n"
     ]
    }
   ],
   "source": [
    "data = [8, 7, 2, 1, 0, 9, 6]\n",
    "print(\"Unsorted Array\")\n",
    "print(data)\n",
    "\n",
    "size = len(data)\n",
    "\n",
    "quick_sort(data, 0, size - 1)\n",
    "\n",
    "print('Sorted Array in Ascending Order:')\n",
    "print(data)"
   ]
  },
  {
   "cell_type": "code",
   "execution_count": null,
   "id": "98e2e7df",
   "metadata": {},
   "outputs": [],
   "source": []
  }
 ],
 "metadata": {
  "kernelspec": {
   "display_name": "Python 3 (ipykernel)",
   "language": "python",
   "name": "python3"
  },
  "language_info": {
   "codemirror_mode": {
    "name": "ipython",
    "version": 3
   },
   "file_extension": ".py",
   "mimetype": "text/x-python",
   "name": "python",
   "nbconvert_exporter": "python",
   "pygments_lexer": "ipython3",
   "version": "3.7.11"
  }
 },
 "nbformat": 4,
 "nbformat_minor": 5
}
