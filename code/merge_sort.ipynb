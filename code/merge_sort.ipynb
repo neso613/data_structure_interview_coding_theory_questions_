{
 "cells": [
  {
   "cell_type": "code",
   "execution_count": 8,
   "id": "9398de92",
   "metadata": {},
   "outputs": [],
   "source": [
    "lis = [12, 11, 13, 5, 6, 7]\n"
   ]
  },
  {
   "cell_type": "code",
   "execution_count": 9,
   "id": "dc7f1bd2",
   "metadata": {},
   "outputs": [
    {
     "name": "stdout",
     "output_type": "stream",
     "text": [
      "[12, 11, 13, 5, 6, 7]\n",
      "[12, 11, 13]\n",
      "[12]\n",
      "[11, 13]\n",
      "[11]\n",
      "[13]\n",
      "[5, 6, 7]\n",
      "[5]\n",
      "[6, 7]\n",
      "[6]\n",
      "[7]\n"
     ]
    }
   ],
   "source": [
    "def merge_sort(lis):\n",
    "    print(lis)\n",
    "    n = len(lis)\n",
    "    if n > 1:\n",
    "        mid = n // 2\n",
    "        left_list = lis[:mid]\n",
    "        right_list = lis[mid:]\n",
    "        merge_sort(left_list)\n",
    "        merge_sort(right_list)\n",
    "merge_sort(lis) "
   ]
  },
  {
   "cell_type": "code",
   "execution_count": 10,
   "id": "41befe38",
   "metadata": {},
   "outputs": [
    {
     "data": {
      "text/plain": [
       "[5, 6, 7, 11, 12, 13]"
      ]
     },
     "execution_count": 10,
     "metadata": {},
     "output_type": "execute_result"
    }
   ],
   "source": [
    "def merge_sort(lis):\n",
    "    n = len(lis)\n",
    "    if n > 1:\n",
    "        mid = n // 2\n",
    "        left_list = lis[:mid]\n",
    "        right_list = lis[mid:]\n",
    "        merge_sort(left_list)\n",
    "        merge_sort(right_list)\n",
    "        i = j = k = 0\n",
    "        while i < len(left_list) and j < len(right_list):\n",
    "            if left_list[i] < right_list[j]:\n",
    "                lis[k] = left_list[i]\n",
    "                i+=1\n",
    "            else:\n",
    "                lis[k] = right_list[j]\n",
    "                j+=1\n",
    "            k+=1\n",
    "        while i < len(left_list):\n",
    "            lis[k] = left_list[i]\n",
    "            i+=1\n",
    "            k+=1\n",
    "        while j < len(right_list):\n",
    "            lis[k] = right_list[j]\n",
    "            j+=1\n",
    "            k+=1\n",
    "        \n",
    "merge_sort(lis)\n",
    "lis"
   ]
  }
 ],
 "metadata": {
  "kernelspec": {
   "display_name": "Python 3 (ipykernel)",
   "language": "python",
   "name": "python3"
  },
  "language_info": {
   "codemirror_mode": {
    "name": "ipython",
    "version": 3
   },
   "file_extension": ".py",
   "mimetype": "text/x-python",
   "name": "python",
   "nbconvert_exporter": "python",
   "pygments_lexer": "ipython3",
   "version": "3.7.11"
  }
 },
 "nbformat": 4,
 "nbformat_minor": 5
}
