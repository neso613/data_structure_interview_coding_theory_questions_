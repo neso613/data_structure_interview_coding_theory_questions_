{
 "cells": [
  {
   "cell_type": "code",
   "execution_count": 1,
   "id": "6af912cd",
   "metadata": {},
   "outputs": [],
   "source": [
    "lis = [3,6,9,21,33]"
   ]
  },
  {
   "cell_type": "code",
   "execution_count": 2,
   "id": "7ba7bafb",
   "metadata": {},
   "outputs": [],
   "source": [
    "def bubble_sort(lis):\n",
    "    n = len(lis)\n",
    "    for i in range(n-1):\n",
    "        flag=False\n",
    "        for j in range(n-1):\n",
    "            if lis[j]>lis[j+1]:\n",
    "                temp = lis[j]\n",
    "                lis[j] = lis[j+1]\n",
    "                lis[j+1] = temp\n",
    "                flag = True\n",
    "        if flag:\n",
    "            break\n",
    "    return lis"
   ]
  },
  {
   "cell_type": "code",
   "execution_count": 3,
   "id": "e13aa607",
   "metadata": {},
   "outputs": [
    {
     "data": {
      "text/plain": [
       "[3, 6, 9, 21, 33]"
      ]
     },
     "execution_count": 3,
     "metadata": {},
     "output_type": "execute_result"
    }
   ],
   "source": [
    "res = bubble_sort(lis)\n",
    "res"
   ]
  },
  {
   "cell_type": "code",
   "execution_count": null,
   "id": "4d0ae2dc",
   "metadata": {},
   "outputs": [],
   "source": []
  }
 ],
 "metadata": {
  "kernelspec": {
   "display_name": "Python 3 (ipykernel)",
   "language": "python",
   "name": "python3"
  },
  "language_info": {
   "codemirror_mode": {
    "name": "ipython",
    "version": 3
   },
   "file_extension": ".py",
   "mimetype": "text/x-python",
   "name": "python",
   "nbconvert_exporter": "python",
   "pygments_lexer": "ipython3",
   "version": "3.7.11"
  }
 },
 "nbformat": 4,
 "nbformat_minor": 5
}
